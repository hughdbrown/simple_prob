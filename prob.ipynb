{
 "metadata": {
  "name": "",
  "signature": "sha256:dda05b49cd073e97d54ffadb214ca641975a7cc15cad976f87533457fa7bff23"
 },
 "nbformat": 3,
 "nbformat_minor": 0,
 "worksheets": [
  {
   "cells": [
    {
     "cell_type": "code",
     "collapsed": false,
     "input": [
      "import prob"
     ],
     "language": "python",
     "metadata": {},
     "outputs": [],
     "prompt_number": 4
    },
    {
     "cell_type": "code",
     "collapsed": false,
     "input": [
      "import numpy as np\n",
      "\n",
      "series = np.\n",
      "\n",
      "prob.show_boxplot(series)\n",
      "# prob.save_boxplot(series)\n",
      "prob.show_histogram(series)\n",
      "prob.show_QQ(series)"
     ],
     "language": "python",
     "metadata": {},
     "outputs": [
      {
       "metadata": {},
       "output_type": "pyout",
       "prompt_number": 6,
       "text": [
        "['__builtins__',\n",
        " '__doc__',\n",
        " '__file__',\n",
        " '__name__',\n",
        " '__package__',\n",
        " 'np',\n",
        " 'plt',\n",
        " 'save_boxplot',\n",
        " 'show_QQ',\n",
        " 'show_boxplot',\n",
        " 'show_histogram',\n",
        " 'stats']"
       ]
      }
     ],
     "prompt_number": 6
    },
    {
     "cell_type": "code",
     "collapsed": false,
     "input": [],
     "language": "python",
     "metadata": {},
     "outputs": []
    }
   ],
   "metadata": {}
  }
 ]
}